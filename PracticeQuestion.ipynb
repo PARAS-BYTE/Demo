{
 "cells": [
  {
   "cell_type": "code",
   "execution_count": 2,
   "id": "bdc8f8fe",
   "metadata": {},
   "outputs": [
    {
     "name": "stdout",
     "output_type": "stream",
     "text": [
      "Square 9\n",
      "Cube 27\n"
     ]
    }
   ],
   "source": [
    "#  Develop a function to calculate the square and cube of a number.\n",
    "def calc (num):\n",
    "    print(\"Square\",num**2)\n",
    "    print(\"Cube\",num**2*num)\n",
    "num=int(input('Enter a Number'))\n",
    "calc(num)"
   ]
  },
  {
   "cell_type": "code",
   "execution_count": 8,
   "id": "0579e0a8",
   "metadata": {},
   "outputs": [
    {
     "name": "stdout",
     "output_type": "stream",
     "text": [
      "Welcome to the Paradise Hotel Dear user and paras\n"
     ]
    }
   ],
   "source": [
    "# Build a greeting program that takes the user's name and displays a message. \n",
    "def greeet(name,user):\n",
    "    print(\"Welcome to the Paradise Hotel Dear {0} and {1}\".format(user,name))\n",
    "name=input('Enter Your Name Dear')\n",
    "user=input('Enter the Second User Name')\n",
    "greeet(name,user)"
   ]
  },
  {
   "cell_type": "code",
   "execution_count": 15,
   "id": "2d2d9716",
   "metadata": {},
   "outputs": [
    {
     "name": "stdout",
     "output_type": "stream",
     "text": [
      "78\n"
     ]
    }
   ],
   "source": [
    "#  Construct a loop-based solution to compute the sum of the first N natural numbers.\n",
    "number=int(input('Enter the N up to Where you want to Get the Sum'))\n",
    "sum=0\n",
    "for i in range(1,number+1):\n",
    "    sum+=i\n",
    "print(sum)"
   ]
  },
  {
   "cell_type": "code",
   "execution_count": 19,
   "id": "f2cc9e82",
   "metadata": {},
   "outputs": [
    {
     "name": "stdout",
     "output_type": "stream",
     "text": [
      "Positive\n"
     ]
    }
   ],
   "source": [
    "# Develop a function to classify a number as positive, negative, or zero. \n",
    "func=lambda x: \"Positive\" if x>0 else (\"Zero\" if num==0 else \"Negative\")\n",
    "num=int(input('Enter a number'))\n",
    "print(func(num))"
   ]
  },
  {
   "cell_type": "code",
   "execution_count": 49,
   "id": "69de4a6e",
   "metadata": {},
   "outputs": [
    {
     "name": "stdout",
     "output_type": "stream",
     "text": [
      "6\n"
     ]
    }
   ],
   "source": [
    "# solve the maximum of three numbers using if-elif-else logic in a function. \n",
    "func=lambda x,y,z: x if x>y and x>z else (y if  y>z else z)\n",
    "print(func(6,4,2))"
   ]
  },
  {
   "cell_type": "code",
   "execution_count": 51,
   "id": "15021f29",
   "metadata": {},
   "outputs": [],
   "source": [
    "# # Develop a program to display a multiplication table of a number. \n",
    "# def func(num):\n",
    "#     for i in range(1,11):\n",
    "#         print(\"{} x {} = {}\".format(num,i,num*i))\n",
    "# func(2)"
   ]
  },
  {
   "cell_type": "code",
   "execution_count": 54,
   "id": "9fc8962c",
   "metadata": {},
   "outputs": [
    {
     "name": "stdout",
     "output_type": "stream",
     "text": [
      "Fizz Buzz 1 2 Fizz 4 Buzz Fizz 7 8 Fizz Buzz 11 Fizz 13 14 Fizz Buzz 16 17 Fizz 19 Buzz Fizz 22 23 Fizz Buzz 26 Fizz 28 29 Fizz Buzz 31 32 Fizz 34 Buzz Fizz 37 38 Fizz Buzz 41 Fizz 43 44 Fizz Buzz 46 47 Fizz 49 Buzz "
     ]
    }
   ],
   "source": [
    "# Build a script that prints numbers 1 to 50, replacing multiples of 3 and 5 with Fizz/Buzz \n",
    "# accordingly. \n",
    "for i in range(51):\n",
    "    if (i%3==0 and i%5==0):\n",
    "        print(\"Fizz Buzz\",end=\" \")\n",
    "    elif(i%3==0):\n",
    "        print(\"Fizz\",end=\" \")\n",
    "    elif(i%5==0):\n",
    "        print(\"Buzz\",end=\" \")\n",
    "    else:\n",
    "        print(i,end=\" \")"
   ]
  },
  {
   "cell_type": "code",
   "execution_count": 62,
   "id": "74389325",
   "metadata": {},
   "outputs": [
    {
     "name": "stdout",
     "output_type": "stream",
     "text": [
      "479001600\n"
     ]
    }
   ],
   "source": [
    "# . Utilize recursion to build a function that calculates the factorial of a number. \n",
    "\n",
    "def func(num):\n",
    "    if num<=1:\n",
    "        return 1\n",
    "    return func(num-1)*num\n",
    "nu=int(input('Etner a number'))\n",
    "print(func(nu))"
   ]
  },
  {
   "cell_type": "code",
   "execution_count": null,
   "id": "146d432f",
   "metadata": {},
   "outputs": [
    {
     "name": "stdout",
     "output_type": "stream",
     "text": [
      "Oraneg Mango Apple Banana Papaya "
     ]
    }
   ],
   "source": [
    "#  Organize a list of five fruits and apply a loop to print each one\n",
    "# list=[\"Oraneg\",\"Mango\",\"Apple\",\"Banana\",\"Papaya\"]\n",
    "\n",
    "for fruit in list:\n",
    "    print(fruit,end=\" \")"
   ]
  },
  {
   "cell_type": "code",
   "execution_count": 76,
   "id": "869ec3e5",
   "metadata": {},
   "outputs": [
    {
     "name": "stdout",
     "output_type": "stream",
     "text": [
      "\n",
      "\n"
     ]
    }
   ],
   "source": [
    "# . Solve the reversal of a string without using built-in functions. \n",
    "str=input('Enter any string')\n",
    "print(str[-1::-1])\n",
    "str2=\"\"\n",
    "for i  in range(len(str)-1,-1,-1):\n",
    "    str2+=str[i]\n",
    "print(str2)\n",
    "\n"
   ]
  },
  {
   "cell_type": "code",
   "execution_count": null,
   "id": "e3bd4581",
   "metadata": {},
   "outputs": [
    {
     "name": "stdout",
     "output_type": "stream",
     "text": [
      "2\n"
     ]
    }
   ],
   "source": [
    "# Make use of a function to count how many times a specific element appears in a list.\n",
    "import numpy as np\n",
    "def func(list,word):\n",
    "    arr=np.array(list)\n",
    "    num=np.sum(arr==word)\n",
    "    print(num)\n",
    "# list=[\"paras\",\"is\",\"alive\",\"is\",\"he\",\"dead\",\"is\",\"he\"]\n",
    "func(list,\"phiras\")\n",
    "\n",
    "def func(list,word):\n",
    "    sum=0\n",
    "    for some in list:\n",
    "        if word==some:\n",
    "            sum+=1\n",
    "    print(sum)\n",
    "list=[\"paras\",\"is\",\"alive\",\"is\",\"he\",\"dead\",\"is\",\"he\"]\n",
    "func(list,\"he\")\n"
   ]
  },
  {
   "cell_type": "code",
   "execution_count": null,
   "id": "ccc8d24a",
   "metadata": {},
   "outputs": [],
   "source": [
    "# . Build a student mark system using a dictionary and retrieve values based on user input. \n",
    "students={\n",
    "    'Paras':[20,30,40,50,10],\n",
    "    'Riya':[40,40,10,405,0],\n",
    "    'Preeti' :[3,2,22,3,2,2,2],\n",
    "}\n",
    "str=input('Enter the Student Name:')\n",
    "if(str in students.keys()):\n",
    "    print(students[str])\n",
    "else:\n",
    "    print(\"No User Founded\")"
   ]
  },
  {
   "cell_type": "code",
   "execution_count": 96,
   "id": "d098a409",
   "metadata": {},
   "outputs": [
    {
     "name": "stdout",
     "output_type": "stream",
     "text": [
      "{'p': 1, 'a': 2, 'r': 1, 's': 1}\n"
     ]
    }
   ],
   "source": [
    "# Utilize Python to compute the frequency of characters in a string entered by a user. \n",
    "def freq(str):\n",
    "    dict={}\n",
    "    for char in str:\n",
    "        if(dict.get(char)):\n",
    "            dict[char]=dict[char]+1\n",
    "        else:\n",
    "            dict[char]=1\n",
    "    return dict\n",
    "some=input('Enter a String')\n",
    "print(freq(some))"
   ]
  },
  {
   "cell_type": "code",
   "execution_count": 101,
   "id": "8e2da617",
   "metadata": {},
   "outputs": [
    {
     "name": "stdout",
     "output_type": "stream",
     "text": [
      "True\n",
      "False\n",
      "True\n",
      "True\n"
     ]
    }
   ],
   "source": [
    "#  Identify the difference between is and == by applying them in Python code. \n",
    "a=[1,2,3]\n",
    "b=[1,2,3]\n",
    "print(a==b)\n",
    "print(a is b)\n",
    "c=a\n",
    "print(a==c)\n",
    "print(a is c)"
   ]
  },
  {
   "cell_type": "code",
   "execution_count": 109,
   "id": "28571664",
   "metadata": {},
   "outputs": [
    {
     "name": "stdout",
     "output_type": "stream",
     "text": [
      "20\n"
     ]
    }
   ],
   "source": [
    "# Identify the impact of global variables in Python by developing a relevant example. \n",
    "\n",
    "low=0\n",
    "def some():\n",
    "    global low\n",
    "    low+=1\n",
    "\n",
    "for  i in range(20):\n",
    "    some()\n",
    "print(low)"
   ]
  },
  {
   "cell_type": "code",
   "execution_count": 114,
   "id": "9f58ea81",
   "metadata": {},
   "outputs": [
    {
     "data": {
      "text/plain": [
       "[1, 2, 3, 4]"
      ]
     },
     "execution_count": 114,
     "metadata": {},
     "output_type": "execute_result"
    }
   ],
   "source": [
    "# . Plan and solve a way to remove duplicates and sort a list without using set. \n",
    "def remove(list):\n",
    "    unique=[]\n",
    "    for num in list:\n",
    "        if(not(num in unique)):\n",
    "            unique.append(num)\n",
    "    return unique\n",
    "list=[1,2,3,4,1,2,3,1,1,3]\n",
    "list=remove(list)\n",
    "list.sort()\n",
    "list\n"
   ]
  },
  {
   "cell_type": "code",
   "execution_count": 118,
   "id": "9d0fca93",
   "metadata": {},
   "outputs": [
    {
     "name": "stdout",
     "output_type": "stream",
     "text": [
      "30 29 28 27 26 25 24 23 22 21 20 19 18 17 16 15 14 13 12 11 10 "
     ]
    }
   ],
   "source": [
    "# Categorize the different types of loops in Python. Compare their use cases with \n",
    "# examples.\n",
    "x=31\n",
    "while x>10:\n",
    "    x-=1\n",
    "    print(x,end=\" \")\n",
    "\n"
   ]
  },
  {
   "cell_type": "code",
   "execution_count": 122,
   "id": "902aa5ce",
   "metadata": {},
   "outputs": [
    {
     "data": {
      "text/plain": [
       "['apple', 'blueberry', 'cherry', 'date', 'elderBerry']"
      ]
     },
     "execution_count": 122,
     "metadata": {},
     "output_type": "execute_result"
    }
   ],
   "source": [
    "# Evaluate from the given list: \n",
    "# 29. my_list = ['apple', 'banana', 'cherry', 'date'] \n",
    "# 30. a) Retrieve the second and third elements using slicing.   \n",
    "# 31. b) Replace 'banana' with 'blueberry'.   \n",
    "# 32. c) Add 'elderberry' at the end of the list.  \n",
    "\n",
    "my_list=['apple','banana','cherry','date']\n",
    "\n",
    "# print(my_list[1:3])\n",
    "my_list[1]='blueberry'\n",
    "my_list.append('elderBerry')\n",
    "my_list"
   ]
  },
  {
   "cell_type": "code",
   "execution_count": 131,
   "id": "570d56a9",
   "metadata": {},
   "outputs": [
    {
     "name": "stdout",
     "output_type": "stream",
     "text": [
      "[[4, 5, 6]]\n",
      "7\n"
     ]
    },
    {
     "data": {
      "text/plain": [
       "[[1, 2, 3], [4, 5, 6], [7, 99, 9]]"
      ]
     },
     "execution_count": 131,
     "metadata": {},
     "output_type": "execute_result"
    }
   ],
   "source": [
    "# 3. Evaluate from the nested list: \n",
    "# 34. nested_list = [[1, 2, 3], [4, 5, 6], [7, 8, 9]] \n",
    "# 35. a) Extract the second row.   \n",
    "# 36. b) Retrieve the element at position (3,2).   \n",
    "# 37. c) Modify the element at (2,1) to 99.  \n",
    "nested_list = [[1, 2, 3], [4, 5, 6], [7, 8, 9]] \n",
    "print(nested_list[1:2])\n",
    "print(nested_list[2][0])\n",
    "nested_list[2][1]=99\n",
    "nested_list"
   ]
  },
  {
   "cell_type": "code",
   "execution_count": 140,
   "id": "4ec4837f",
   "metadata": {},
   "outputs": [],
   "source": [
    "# Justify the use of Python lambda with filter() and map() to extract odd numbers from \n",
    "# [10,15,20,25,30], then cube them and print the result. \n",
    "# my=[10,15,20,25,30]\n",
    "# some=list(filter(lambda x: x%2==1,my))\n"
   ]
  },
  {
   "cell_type": "code",
   "execution_count": 154,
   "id": "3a8d7057",
   "metadata": {},
   "outputs": [],
   "source": [
    "# 0. Evaluate by using list comprehension, remove all vowels from the given string:\n",
    "\n",
    "# def remove(vale):\n",
    "#     vowels=\"aieouAIEOU\"\n",
    "#     newlist=[char for char in vale if char not in vowels]\n",
    "#     return \"\".join(newlist)\n",
    "# vale=\"Pink is alive with teh city\"\n",
    "# print(remove(vale))"
   ]
  },
  {
   "cell_type": "code",
   "execution_count": 1,
   "id": "f26f45ba",
   "metadata": {},
   "outputs": [],
   "source": [
    "# Apply list operations to calculate the total and average sales from the list: \n",
    "# 43. sales = [250, 400, 300, 450, 500] \n",
    "# 44. Then, modify the list by removing the lowest sale and observe the changes.\n",
    "sales=[250,300,500,204]\n"
   ]
  },
  {
   "cell_type": "code",
   "execution_count": 4,
   "id": "b23abf9b",
   "metadata": {},
   "outputs": [
    {
     "data": {
      "text/plain": [
       "[1000, 3375, 8000, 15625, 27000]"
      ]
     },
     "execution_count": 4,
     "metadata": {},
     "output_type": "execute_result"
    }
   ],
   "source": [
    "# . Justify the use of Python lambda with filter() and map() to extract odd numbers from \n",
    "# [10,15,20,25,30], then cube them and print the result.\n",
    "my_list=[10,15,20,25,30]\n",
    "list(filter(lambda x : x%2==1,my_list))\n",
    "list(map(lambda x :x**3,my_list))"
   ]
  },
  {
   "cell_type": "code",
   "execution_count": 7,
   "id": "050a5741",
   "metadata": {},
   "outputs": [
    {
     "name": "stdout",
     "output_type": "stream",
     "text": [
      "Lst cmprhnsns n Pythn r pwrfl\n"
     ]
    }
   ],
   "source": [
    "def remove(str):\n",
    "    vowels=\"aieouAEIOU\"\n",
    "    newlist=\"\".join([char for char in str if char not in vowels])\n",
    "    return newlist\n",
    "\n",
    "print(remove(\"List comprehensions in Python are powerful\"))"
   ]
  },
  {
   "cell_type": "code",
   "execution_count": 15,
   "id": "15e626e0",
   "metadata": {},
   "outputs": [
    {
     "name": "stdout",
     "output_type": "stream",
     "text": [
      "1900 380.0\n",
      "250\n",
      "[400, 300, 450, 500]\n",
      "1650 412.5\n"
     ]
    }
   ],
   "source": [
    "# Apply list operations to calculate the total and average sales from the list: \n",
    "# 43. sales = [250, 400, 300, 450, 500] \n",
    "# 44. Then, modify the list by removing the lowest sale and observe the changes. \n",
    "def calc(list):\n",
    "    total=0\n",
    "    for num in list:\n",
    "        total+=num\n",
    "    return [total,total/len(list)]\n",
    "\n",
    "sales = [250, 400, 300, 450, 500] \n",
    "[total,avg]=calc(sales)\n",
    "print(total,avg)\n",
    "def lowest(list):\n",
    "    lowest=list[0]\n",
    "    for num in list:\n",
    "        if(num<lowest):\n",
    "            lowest=num\n",
    "    return lowest\n",
    "print(lowest(sales))\n",
    "sales.remove(lowest(sales))\n",
    "print(sales)\n",
    "[total,avg]=calc(sales)\n",
    "print(total,avg)"
   ]
  },
  {
   "cell_type": "code",
   "execution_count": 23,
   "id": "78a65445",
   "metadata": {},
   "outputs": [
    {
     "data": {
      "text/plain": [
       "[1, 2, 3, 4, 5, 1, 2, 3, 4, 5, 6, 23]"
      ]
     },
     "execution_count": 23,
     "metadata": {},
     "output_type": "execute_result"
    }
   ],
   "source": [
    "list1=[1,2,3,4,5]\n",
    "list2=[1,2,3,4,5,6]\n",
    "list1.extend(list2)\n",
    "list1.append(23)\n",
    "list1"
   ]
  },
  {
   "cell_type": "code",
   "execution_count": null,
   "id": "862ac8b8",
   "metadata": {},
   "outputs": [
    {
     "data": {
      "text/plain": [
       "[1, 2, 3, 4, 5, 1, 2, 3, 4, 5, 6, 23]"
      ]
     },
     "execution_count": 31,
     "metadata": {},
     "output_type": "execute_result"
    }
   ],
   "source": [
    "# Apply index() and count() functions on the list:\n"
   ]
  },
  {
   "cell_type": "code",
   "execution_count": 43,
   "id": "36866cce",
   "metadata": {},
   "outputs": [
    {
     "data": {
      "text/plain": [
       "[10, 20, 30, 40, 50, 2]"
      ]
     },
     "execution_count": 43,
     "metadata": {},
     "output_type": "execute_result"
    }
   ],
   "source": [
    "#  Construct a list modification task using insert() and remove() functions on \n",
    "# 51. numbers = [10, 20, 30, 40, 50] \n",
    "# 52. to alter list structure dynamically. \n",
    "numbers=[10, 20, 30, 40, 50]\n",
    "numbers.insert(7,2)\n",
    "numbers\n",
    "numbers"
   ]
  },
  {
   "cell_type": "code",
   "execution_count": 45,
   "id": "34c293bf",
   "metadata": {},
   "outputs": [
    {
     "data": {
      "text/plain": [
       "[4, 16, 36, 64, 100, 144, 196, 256, 324, 400]"
      ]
     },
     "execution_count": 45,
     "metadata": {},
     "output_type": "execute_result"
    }
   ],
   "source": [
    "# Identify a traditional loop into a list comprehension to generate squares of even \n",
    "# numbers from 1 to 20. Apply performance testing on large datasets. \n",
    "\n",
    "[x*x for x in range(1,21) if x%2==0 ]"
   ]
  },
  {
   "cell_type": "code",
   "execution_count": 61,
   "id": "7aa9a97e",
   "metadata": {},
   "outputs": [
    {
     "name": "stdout",
     "output_type": "stream",
     "text": [
      "Bonus : 2.1\n"
     ]
    }
   ],
   "source": [
    "#  Apply conditional logic to modify an employee bonus calculator to include service years. \n",
    "# Adjust the bonus policy dynamically.\n",
    "\n",
    "def bonuscalc(salary,exper):\n",
    "    if exper <=5:\n",
    "        return (salary*(10/100))\n",
    "    elif exper>5 & exper<=10:\n",
    "        return (salary*(20/100))\n",
    "    else :\n",
    "        return (salary*(40/100))\n",
    "salary=float(input('Enter Your Salary'))\n",
    "exper=int(input('Enter Your experince'))\n",
    "\n",
    "print(\"Bonus : {}\".format(bonuscalc(salary,exper)))"
   ]
  },
  {
   "cell_type": "code",
   "execution_count": 73,
   "id": "aaf8116b",
   "metadata": {},
   "outputs": [
    {
     "name": "stdout",
     "output_type": "stream",
     "text": [
      "You Are Trying to Divide by Zero\n",
      "What do you thing you can divide the things by zero too\n"
     ]
    }
   ],
   "source": [
    "# Examine the effectiveness of exception handling in Python. Analyze a program that \n",
    "# handles ValueError, ZeroDivisionError, and FileNotFoundError, and justify its \n",
    "# implementation.\n",
    "\n",
    "try:\n",
    "    print(2/0)\n",
    "except ZeroDivisionError:\n",
    "    print(\"You Are Trying to Divide by Zero\")\n",
    "\n",
    "try:\n",
    "    print(23/0)\n",
    "except NameError:\n",
    "    print(\"The Name Eror Arrived\")\n",
    "except SyntaxError:\n",
    "    print(\"Sytnax Eror\")\n",
    "except ValueError:\n",
    "    print(\"Value Eror\")\n",
    "except ZeroDivisionError:\n",
    "    print(\"What do you thing you can divide the things by zero too\")"
   ]
  },
  {
   "cell_type": "code",
   "execution_count": 75,
   "id": "dc72428f",
   "metadata": {},
   "outputs": [],
   "source": [
    "# try:\n",
    "#     number=int(input('Enter a number'))\n",
    "#     print(number/2)\n",
    "# except ValueError:\n",
    "#     print(\"Value Eror is Arrived\")"
   ]
  },
  {
   "cell_type": "code",
   "execution_count": 78,
   "id": "d7f7f45a",
   "metadata": {},
   "outputs": [
    {
     "name": "stdout",
     "output_type": "stream",
     "text": [
      "File Not Found Eror is There\n"
     ]
    }
   ],
   "source": [
    "try:\n",
    "    with open (\"file.txt\",\"r\") as file:\n",
    "        print(\"File Founded\")\n",
    "except FileNotFoundError:\n",
    "    print(\"File Not Found Eror is There\")"
   ]
  },
  {
   "cell_type": "code",
   "execution_count": 87,
   "id": "0d2b20e9",
   "metadata": {},
   "outputs": [
    {
     "name": "stdout",
     "output_type": "stream",
     "text": [
      "[1, 2, 34, 5] <class 'list'>\n",
      "(1, 2, 3, 4, 2) <class 'tuple'>\n",
      "{1, 2, 34, 5} <class 'set'>\n"
     ]
    }
   ],
   "source": [
    "list=[1,2,34,5]\n",
    "print(list,type(list))\n",
    "tuple=(1,2,3,4,2)\n",
    "print(tuple,type(tuple))\n",
    "set={1,2,34,5}\n",
    "print(set,type(set))"
   ]
  }
 ],
 "metadata": {
  "kernelspec": {
   "display_name": "base",
   "language": "python",
   "name": "python3"
  },
  "language_info": {
   "codemirror_mode": {
    "name": "ipython",
    "version": 3
   },
   "file_extension": ".py",
   "mimetype": "text/x-python",
   "name": "python",
   "nbconvert_exporter": "python",
   "pygments_lexer": "ipython3",
   "version": "3.12.7"
  }
 },
 "nbformat": 4,
 "nbformat_minor": 5
}
